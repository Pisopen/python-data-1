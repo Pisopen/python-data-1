{
 "cells": [
  {
   "cell_type": "markdown",
   "metadata": {},
   "source": [
    "**TP3 - FastAPI Introduction** \n",
    "\n",
    "* se renseigner sur les API de façon générale et à quoi cela sert, quel interet peut avoir une entreprise à développer des services API OK\n",
    "* se renseigner sur FastAPI et faire une petite application qui renvoie `hello word`, expliquer ce qu'est une route. Expliquer la difference entre les fonction classique et les fonctions `async`. OK\n",
    "* Que fait la class `BaseModel` et comment l'utilise t'on?\n",
    "* charger un dump d'un model ML et faite une route prediction (vous pouvez vous appuyer sur le dataset fournit au TP2 ou bien prendre les data de votre choix. \n",
    "* faire un repo `/test` à la racine de votre projet et insérer un fichier `/test/test_api.sh` pour tester votre api\n",
    "* **(bonus)** mettre en production un model ML à partir des data de votre choix\n",
    "* **(bonus)** containeriser votre api avec Docker \n",
    "* faire un push de votre travail sur votre repo.  "
   ]
  },
  {
   "cell_type": "markdown",
   "metadata": {},
   "source": [
    "Sync : une requête pour un serveur\n",
    "Async : envoie une tache qui sera dans la liste des taches"
   ]
  },
  {
   "cell_type": "markdown",
   "metadata": {},
   "source": [
    "BaseModel est un objet de base nous permettent d'utiliser des objets."
   ]
  },
  {
   "cell_type": "markdown",
   "metadata": {},
   "source": [
    "from pydantic import BaseModel\n",
    "\n",
    "class User(BaseModel):\n",
    "\n",
    "    id: int\n",
    "    name = 'Jane Doe'"
   ]
  },
  {
   "cell_type": "code",
   "execution_count": null,
   "metadata": {},
   "outputs": [],
   "source": []
  }
 ],
 "metadata": {
  "kernelspec": {
   "display_name": "Python 3",
   "language": "python",
   "name": "python3"
  },
  "language_info": {
   "codemirror_mode": {
    "name": "ipython",
    "version": 3
   },
   "file_extension": ".py",
   "mimetype": "text/x-python",
   "name": "python",
   "nbconvert_exporter": "python",
   "pygments_lexer": "ipython3",
   "version": "3.8.5"
  }
 },
 "nbformat": 4,
 "nbformat_minor": 4
}
